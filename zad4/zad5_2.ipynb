{
 "cells": [
  {
   "cell_type": "code",
   "execution_count": null,
   "metadata": {},
   "outputs": [],
   "source": [
    "def suma_cyfr():\n",
    "    print ('podaj liczbę')\n",
    "    liczba = input()\n",
    "    liczba = str(liczba)\n",
    "    suma = 0\n",
    "    for i in liczba:\n",
    "        i = int(i)\n",
    "        suma = suma + i\n",
    "    print ('suma cyfr liczby %s wynosi %d' % (liczba, suma)) \n"
   ]
  }
 ],
 "metadata": {
  "kernelspec": {
   "display_name": "Python 3",
   "language": "python",
   "name": "python3"
  },
  "language_info": {
   "codemirror_mode": {
    "name": "ipython",
    "version": 3
   },
   "file_extension": ".py",
   "mimetype": "text/x-python",
   "name": "python",
   "nbconvert_exporter": "python",
   "pygments_lexer": "ipython3",
   "version": "3.7.0"
  }
 },
 "nbformat": 4,
 "nbformat_minor": 2
}
