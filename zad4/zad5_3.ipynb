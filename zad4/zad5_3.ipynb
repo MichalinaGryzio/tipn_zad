{
 "cells": [
  {
   "cell_type": "code",
   "execution_count": 8,
   "metadata": {},
   "outputs": [
    {
     "name": "stdin",
     "output_type": "stream",
     "text": [
      "Napisz zdanie: bla bla bla\n"
     ]
    },
    {
     "name": "stdout",
     "output_type": "stream",
     "text": [
      "Liczba słów w Twoim zdaniu wynosi: 3\n"
     ]
    }
   ],
   "source": [
    "zdanie = input(\"Napisz zdanie:\")\n",
    "\n",
    "spacja = 0\n",
    "\n",
    "for i in zdanie:\n",
    "    if i == \" \":\n",
    "        spacja += 1\n",
    "    if i == \" , \":\n",
    "        spacja -= 1\n",
    "\n",
    "spacja = spacja + 1        \n",
    "\n",
    "print(\"Liczba słów w Twoim zdaniu wynosi:\", spacja)"
   ]
  },
  {
   "cell_type": "code",
   "execution_count": null,
   "metadata": {},
   "outputs": [],
   "source": []
  }
 ],
 "metadata": {
  "kernelspec": {
   "display_name": "Python 3",
   "language": "python",
   "name": "python3"
  },
  "language_info": {
   "codemirror_mode": {
    "name": "ipython",
    "version": 3
   },
   "file_extension": ".py",
   "mimetype": "text/x-python",
   "name": "python",
   "nbconvert_exporter": "python",
   "pygments_lexer": "ipython3",
   "version": "3.7.0"
  }
 },
 "nbformat": 4,
 "nbformat_minor": 2
}
