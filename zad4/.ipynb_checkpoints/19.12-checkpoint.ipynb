{
 "cells": [
  {
   "cell_type": "code",
   "execution_count": 1,
   "metadata": {},
   "outputs": [
    {
     "ename": "SyntaxError",
     "evalue": "unexpected EOF while parsing (<ipython-input-1-cb66891d9bc3>, line 5)",
     "output_type": "error",
     "traceback": [
      "\u001b[1;36m  File \u001b[1;32m\"<ipython-input-1-cb66891d9bc3>\"\u001b[1;36m, line \u001b[1;32m5\u001b[0m\n\u001b[1;33m    # do momentu gdy warunek = True\u001b[0m\n\u001b[1;37m                                   ^\u001b[0m\n\u001b[1;31mSyntaxError\u001b[0m\u001b[1;31m:\u001b[0m unexpected EOF while parsing\n"
     ]
    }
   ],
   "source": [
    "while warunek_logiczny:\n",
    "    # to\n",
    "    # wszystko\n",
    "    # wykonuje się \n",
    "    # do momentu gdy warunek = True"
   ]
  },
  {
   "cell_type": "code",
   "execution_count": 2,
   "metadata": {},
   "outputs": [
    {
     "ename": "SyntaxError",
     "evalue": "invalid syntax (<ipython-input-2-f63155c2c0d1>, line 1)",
     "output_type": "error",
     "traceback": [
      "\u001b[1;36m  File \u001b[1;32m\"<ipython-input-2-f63155c2c0d1>\"\u001b[1;36m, line \u001b[1;32m1\u001b[0m\n\u001b[1;33m    Zadanie: wyświetl wszystkie potęgi 2 od 2** 0 aż po 2**100\u001b[0m\n\u001b[1;37m                              ^\u001b[0m\n\u001b[1;31mSyntaxError\u001b[0m\u001b[1;31m:\u001b[0m invalid syntax\n"
     ]
    }
   ],
   "source": [
    "Zadanie: wyświetl wszystkie potęgi 2 od 2** 0 aż po 2**100"
   ]
  },
  {
   "cell_type": "code",
   "execution_count": 8,
   "metadata": {},
   "outputs": [
    {
     "name": "stdout",
     "output_type": "stream",
     "text": [
      "2 do 0 = 1\n",
      "2 do 1 = 2\n",
      "2 do 2 = 4\n",
      "2 do 3 = 8\n",
      "2 do 4 = 16\n",
      "2 do 5 = 32\n"
     ]
    }
   ],
   "source": [
    "licznik = 0\n",
    "\n",
    "while licznik <= 5:\n",
    "    print('2 do', licznik, '=', 2** licznik)\n",
    "    licznik = licznik + 1"
   ]
  },
  {
   "cell_type": "code",
   "execution_count": 9,
   "metadata": {},
   "outputs": [
    {
     "ename": "SyntaxError",
     "evalue": "invalid syntax (<ipython-input-9-32a121caef38>, line 1)",
     "output_type": "error",
     "traceback": [
      "\u001b[1;36m  File \u001b[1;32m\"<ipython-input-9-32a121caef38>\"\u001b[1;36m, line \u001b[1;32m1\u001b[0m\n\u001b[1;33m    Zadanie: wyświetl wszystkie liczby  z przedziału <0,100>, które są podzielne przez 2 lub przez3.\u001b[0m\n\u001b[1;37m                              ^\u001b[0m\n\u001b[1;31mSyntaxError\u001b[0m\u001b[1;31m:\u001b[0m invalid syntax\n"
     ]
    }
   ],
   "source": [
    "Zadanie: wyświetl wszystkie liczby  z przedziału <0,100>, które są podzielne przez 2 lub przez3.\n"
   ]
  },
  {
   "cell_type": "code",
   "execution_count": 3,
   "metadata": {},
   "outputs": [
    {
     "name": "stdout",
     "output_type": "stream",
     "text": [
      "0\n",
      "2\n",
      "3\n",
      "4\n",
      "6\n",
      "8\n",
      "9\n",
      "10\n",
      "12\n",
      "14\n",
      "15\n",
      "16\n",
      "18\n",
      "20\n",
      "21\n",
      "22\n",
      "24\n",
      "26\n",
      "27\n",
      "28\n",
      "30\n",
      "32\n",
      "33\n",
      "34\n",
      "36\n",
      "38\n",
      "39\n",
      "40\n",
      "42\n",
      "44\n",
      "45\n",
      "46\n",
      "48\n",
      "50\n",
      "51\n",
      "52\n",
      "54\n",
      "56\n",
      "57\n",
      "58\n",
      "60\n",
      "62\n",
      "63\n",
      "64\n",
      "66\n",
      "68\n",
      "69\n",
      "70\n",
      "72\n",
      "74\n",
      "75\n",
      "76\n",
      "78\n",
      "80\n",
      "81\n",
      "82\n",
      "84\n",
      "86\n",
      "87\n",
      "88\n",
      "90\n",
      "92\n",
      "93\n",
      "94\n",
      "96\n",
      "98\n",
      "99\n",
      "100\n"
     ]
    }
   ],
   "source": [
    "liczba = 0\n",
    "while liczba <= 100:\n",
    "    if liczba % 2 == 0 or liczba % 3 == 0:\n",
    "        print(liczba)\n",
    "    liczba += 1"
   ]
  },
  {
   "cell_type": "code",
   "execution_count": 5,
   "metadata": {},
   "outputs": [
    {
     "name": "stdin",
     "output_type": "stream",
     "text": [
      "Podaj hasło marakuja\n"
     ]
    },
    {
     "name": "stdout",
     "output_type": "stream",
     "text": [
      "Smiechom nie było końca.\n"
     ]
    }
   ],
   "source": [
    "dobre_haslo = 'marakuja'\n",
    "tajna_wiadomosc = 'Smiechom nie było końca.'\n",
    "haslo = input(\"Podaj hasło\")\n",
    "\n",
    "if haslo == dobre_haslo:\n",
    "    print(tajna_wiadomosc)\n",
    "else:\n",
    "    print('Złe hasło')"
   ]
  },
  {
   "cell_type": "code",
   "execution_count": null,
   "metadata": {},
   "outputs": [
    {
     "name": "stdin",
     "output_type": "stream",
     "text": [
      "Podaj hasło jdishfb\n"
     ]
    },
    {
     "name": "stdout",
     "output_type": "stream",
     "text": [
      "Złe hasło\n"
     ]
    }
   ],
   "source": [
    "dobre_haslo = 'marakuja'\n",
    "tajna_wiadomosc = 'Smiechom nie było końca.'\n",
    "haslo = input(\"Podaj hasło\")\n",
    "\n",
    "while haslo != dobre_haslo:\n",
    "    print('Złe hasło')\n",
    "    haslo = input('Podaj hasło:')\n",
    "print(tajna_wiadomosc)"
   ]
  },
  {
   "cell_type": "code",
   "execution_count": 3,
   "metadata": {},
   "outputs": [],
   "source": [
    "imiona = [\"Ania\", \"Basia\", \"Kasia\", \"Zosia\", \"Czesia\"]\n"
   ]
  },
  {
   "cell_type": "code",
   "execution_count": 5,
   "metadata": {},
   "outputs": [
    {
     "name": "stdout",
     "output_type": "stream",
     "text": [
      "Ania Nowak\n",
      "Basia Nowak\n",
      "Kasia Nowak\n",
      "Zosia Nowak\n",
      "Czesia Nowak\n"
     ]
    }
   ],
   "source": [
    "for i in imiona:\n",
    "    print(i + ' Nowak')"
   ]
  },
  {
   "cell_type": "code",
   "execution_count": 6,
   "metadata": {},
   "outputs": [],
   "source": [
    "imiona_nazwiska = []\n",
    "\n",
    "for imie in imiona:\n",
    "    imiona_nazwiska.append(imie + \" Nowak\")"
   ]
  },
  {
   "cell_type": "code",
   "execution_count": 7,
   "metadata": {},
   "outputs": [
    {
     "data": {
      "text/plain": [
       "['Ania Nowak', 'Basia Nowak', 'Kasia Nowak', 'Zosia Nowak', 'Czesia Nowak']"
      ]
     },
     "execution_count": 7,
     "metadata": {},
     "output_type": "execute_result"
    }
   ],
   "source": [
    "imiona_nazwiska"
   ]
  },
  {
   "cell_type": "code",
   "execution_count": 8,
   "metadata": {},
   "outputs": [
    {
     "data": {
      "text/plain": [
       "[4, 5, 5, 5, 6]"
      ]
     },
     "execution_count": 8,
     "metadata": {},
     "output_type": "execute_result"
    }
   ],
   "source": [
    "dlugosci = []\n",
    "\n",
    "for i in imiona:\n",
    "    dlugosci.append(len(i))\n",
    "    \n",
    "dlugosci"
   ]
  },
  {
   "cell_type": "code",
   "execution_count": 9,
   "metadata": {},
   "outputs": [
    {
     "data": {
      "text/plain": [
       "5.0"
      ]
     },
     "execution_count": 9,
     "metadata": {},
     "output_type": "execute_result"
    }
   ],
   "source": [
    "import numpy as np\n",
    "\n",
    "np.mean(dlugosci)"
   ]
  },
  {
   "cell_type": "code",
   "execution_count": 10,
   "metadata": {},
   "outputs": [
    {
     "data": {
      "text/plain": [
       "0.6324555320336759"
      ]
     },
     "execution_count": 10,
     "metadata": {},
     "output_type": "execute_result"
    }
   ],
   "source": [
    "np.std(dlugosci)"
   ]
  },
  {
   "cell_type": "code",
   "execution_count": 11,
   "metadata": {},
   "outputs": [
    {
     "data": {
      "text/plain": [
       "5.0"
      ]
     },
     "execution_count": 11,
     "metadata": {},
     "output_type": "execute_result"
    }
   ],
   "source": [
    "sum(dlugosci)/len(dlugosci)"
   ]
  },
  {
   "cell_type": "code",
   "execution_count": 12,
   "metadata": {},
   "outputs": [],
   "source": [
    "nazwisko = 'Brzęczyszczykiewicz'"
   ]
  },
  {
   "cell_type": "code",
   "execution_count": 13,
   "metadata": {},
   "outputs": [
    {
     "data": {
      "text/plain": [
       "'ę'"
      ]
     },
     "execution_count": 13,
     "metadata": {},
     "output_type": "execute_result"
    }
   ],
   "source": [
    "nazwisko[3]"
   ]
  },
  {
   "cell_type": "code",
   "execution_count": 14,
   "metadata": {},
   "outputs": [
    {
     "data": {
      "text/plain": [
       "'ęczyszc'"
      ]
     },
     "execution_count": 14,
     "metadata": {},
     "output_type": "execute_result"
    }
   ],
   "source": [
    "nazwisko[3:10]"
   ]
  },
  {
   "cell_type": "code",
   "execution_count": 15,
   "metadata": {},
   "outputs": [
    {
     "data": {
      "text/plain": [
       "'z'"
      ]
     },
     "execution_count": 15,
     "metadata": {},
     "output_type": "execute_result"
    }
   ],
   "source": [
    "nazwisko[-1]"
   ]
  },
  {
   "cell_type": "code",
   "execution_count": 16,
   "metadata": {},
   "outputs": [
    {
     "name": "stdout",
     "output_type": "stream",
     "text": [
      "B\n",
      "r\n",
      "z\n",
      "ę\n",
      "c\n",
      "z\n",
      "y\n",
      "s\n",
      "z\n",
      "c\n",
      "z\n",
      "y\n",
      "k\n",
      "i\n",
      "e\n",
      "w\n",
      "i\n",
      "c\n",
      "z\n"
     ]
    }
   ],
   "source": [
    "for literka in nazwisko:\n",
    "    print(literka)"
   ]
  },
  {
   "cell_type": "code",
   "execution_count": 18,
   "metadata": {},
   "outputs": [
    {
     "data": {
      "text/plain": [
       "5"
      ]
     },
     "execution_count": 18,
     "metadata": {},
     "output_type": "execute_result"
    }
   ],
   "source": [
    "licznik = 0\n",
    "for literka in nazwisko:\n",
    "    if literka == 'z':\n",
    "        licznik += 1\n",
    "        \n",
    "licznik\n",
    "        "
   ]
  },
  {
   "cell_type": "code",
   "execution_count": null,
   "metadata": {},
   "outputs": [],
   "source": []
  }
 ],
 "metadata": {
  "kernelspec": {
   "display_name": "Python 3",
   "language": "python",
   "name": "python3"
  },
  "language_info": {
   "codemirror_mode": {
    "name": "ipython",
    "version": 3
   },
   "file_extension": ".py",
   "mimetype": "text/x-python",
   "name": "python",
   "nbconvert_exporter": "python",
   "pygments_lexer": "ipython3",
   "version": "3.7.0"
  }
 },
 "nbformat": 4,
 "nbformat_minor": 2
}
