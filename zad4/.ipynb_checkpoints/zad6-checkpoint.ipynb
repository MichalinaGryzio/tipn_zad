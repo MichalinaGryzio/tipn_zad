{
 "cells": [
  {
   "cell_type": "code",
   "execution_count": 2,
   "metadata": {},
   "outputs": [],
   "source": [
    "def ankieta ():\n",
    "    print ('za chwilę ujrzysz 10 pytań dotyczączych twojej osobowości')\n",
    "    print ('na każde pytanie odpowiedz w skali 1 - 5, gdzie:')\n",
    "    print ('1 - bardzo źle')\n",
    "    print ('2 - źle')\n",
    "    print ('3 - nie umiem powiedzieć')\n",
    "    print ('4 - dobrze')\n",
    "    print ('5 - bardzo dobrze')\n",
    "\n",
    "    pytania = ['Jak oceniasz atrakcyjność swojego nosa?', 'Jak się czujesz ze swoimi brwiami?', 'Jak wyglądają twoje paznokcie u stóp?', 'Jak oceniasz swoją kondycję?', 'Jak pachną twoje włosy?', 'Jak wyglądasz w dziurawych skarpetkach?', 'Jak się czujesz nieumyty?', 'Jak się czujesz gdy nie ustępujesz miejsca w tramwaju?', 'Jak dobrze znasz siebie?', 'JAk dobrze czujesz się przygotowany na egzamin z bmz?']\n",
    "    odpowiedz = []\n",
    "\n",
    "    def pytanie (i):\n",
    "        z = 0 \n",
    "        while z == 0:\n",
    "            print (i)\n",
    "            odp = int(input())\n",
    "            if odp in range(1,6):\n",
    "                odpowiedz.append(odp)\n",
    "                z = 1\n",
    "            else:\n",
    "                print ('niepoprawna odpowiedź, wprowadż odpowiedż z akresu 1-5')\n",
    "        \n",
    "            import os\n",
    "            os.system(\"cls\")\n",
    "\n",
    "    for i in pytania:\n",
    "        pytanie(i)\n",
    "        \n",
    "    n = 0\n",
    "    for i in odpowiedz:\n",
    "        n = n + i\n",
    "\n",
    "    print ('twój wynik to %d ' % (n))\n",
    "    print ('chcesz komentarz? T/N')\n",
    "    o = str(input())\n",
    "\n",
    "    if o == 'T' or o == 't':\n",
    "        if n in range(1,11):\n",
    "            print ('jesteś bardzo gupi')\n",
    "        elif n in range(11,21):\n",
    "            print ('jesteś gupi')\n",
    "        elif n in range(21,31):\n",
    "            print ('coś z ciebie bedzie')\n",
    "        elif n in range(31,41):\n",
    "            print ('no, no')\n",
    "        else:\n",
    "            print ('wow')\n",
    "    else:\n",
    "        print ('by, by')\n"
   ]
  },
  {
   "cell_type": "code",
   "execution_count": 3,
   "metadata": {},
   "outputs": [
    {
     "name": "stdout",
     "output_type": "stream",
     "text": [
      "za chwilę ujrzysz 10 pytań dotyczączych twojej osobowości\n",
      "na każde pytanie odpowiedz w skali 1 - 5, gdzie:\n",
      "1 - bardzo źle\n",
      "2 - źle\n",
      "3 - nie umiem powiedzieć\n",
      "4 - dobrze\n",
      "5 - bardzo dobrze\n",
      "Jak oceniasz atrakcyjność swojego nosa?\n"
     ]
    },
    {
     "name": "stdin",
     "output_type": "stream",
     "text": [
      " 2\n"
     ]
    },
    {
     "name": "stdout",
     "output_type": "stream",
     "text": [
      "Jak się czujesz ze swoimi brwiami?\n"
     ]
    },
    {
     "name": "stdin",
     "output_type": "stream",
     "text": [
      " 4\n"
     ]
    },
    {
     "name": "stdout",
     "output_type": "stream",
     "text": [
      "Jak wyglądają twoje paznokcie u stóp?\n"
     ]
    },
    {
     "name": "stdin",
     "output_type": "stream",
     "text": [
      " 5\n"
     ]
    },
    {
     "name": "stdout",
     "output_type": "stream",
     "text": [
      "Jak oceniasz swoją kondycję?\n"
     ]
    },
    {
     "name": "stdin",
     "output_type": "stream",
     "text": [
      " 6\n"
     ]
    },
    {
     "name": "stdout",
     "output_type": "stream",
     "text": [
      "niepoprawna odpowiedź, wprowadż odpowiedż z akresu 1-5\n",
      "Jak oceniasz swoją kondycję?\n"
     ]
    },
    {
     "name": "stdin",
     "output_type": "stream",
     "text": [
      " 5\n"
     ]
    },
    {
     "name": "stdout",
     "output_type": "stream",
     "text": [
      "Jak pachną twoje włosy?\n"
     ]
    },
    {
     "name": "stdin",
     "output_type": "stream",
     "text": [
      " 3\n"
     ]
    },
    {
     "name": "stdout",
     "output_type": "stream",
     "text": [
      "Jak wyglądasz w dziurawych skarpetkach?\n"
     ]
    },
    {
     "name": "stdin",
     "output_type": "stream",
     "text": [
      " 4\n"
     ]
    },
    {
     "name": "stdout",
     "output_type": "stream",
     "text": [
      "Jak się czujesz nieumyty?\n"
     ]
    },
    {
     "name": "stdin",
     "output_type": "stream",
     "text": [
      " 3\n"
     ]
    },
    {
     "name": "stdout",
     "output_type": "stream",
     "text": [
      "Jak się czujesz gdy nie ustępujesz miejsca w tramwaju?\n"
     ]
    },
    {
     "name": "stdin",
     "output_type": "stream",
     "text": [
      " 4\n"
     ]
    },
    {
     "name": "stdout",
     "output_type": "stream",
     "text": [
      "Jak dobrze znasz siebie?\n"
     ]
    },
    {
     "name": "stdin",
     "output_type": "stream",
     "text": [
      " 3\n"
     ]
    },
    {
     "name": "stdout",
     "output_type": "stream",
     "text": [
      "JAk dobrze czujesz się przygotowany na egzamin z bmz?\n"
     ]
    },
    {
     "name": "stdin",
     "output_type": "stream",
     "text": [
      " 4\n"
     ]
    },
    {
     "name": "stdout",
     "output_type": "stream",
     "text": [
      "twój wynik to 37 \n",
      "chcesz komentarz? T/N\n"
     ]
    },
    {
     "name": "stdin",
     "output_type": "stream",
     "text": [
      " t\n"
     ]
    },
    {
     "name": "stdout",
     "output_type": "stream",
     "text": [
      "no, no\n"
     ]
    }
   ],
   "source": [
    "ankieta()\n"
   ]
  },
  {
   "cell_type": "code",
   "execution_count": null,
   "metadata": {},
   "outputs": [],
   "source": []
  },
  {
   "cell_type": "code",
   "execution_count": 2,
   "metadata": {},
   "outputs": [
    {
     "ename": "SyntaxError",
     "evalue": "invalid syntax (<ipython-input-2-517f3207e290>, line 1)",
     "output_type": "error",
     "traceback": [
      "\u001b[1;36m  File \u001b[1;32m\"<ipython-input-2-517f3207e290>\"\u001b[1;36m, line \u001b[1;32m1\u001b[0m\n\u001b[1;33m    ankieta():\u001b[0m\n\u001b[1;37m              ^\u001b[0m\n\u001b[1;31mSyntaxError\u001b[0m\u001b[1;31m:\u001b[0m invalid syntax\n"
     ]
    }
   ],
   "source": []
  },
  {
   "cell_type": "code",
   "execution_count": null,
   "metadata": {},
   "outputs": [],
   "source": []
  },
  {
   "cell_type": "code",
   "execution_count": null,
   "metadata": {},
   "outputs": [],
   "source": []
  },
  {
   "cell_type": "code",
   "execution_count": null,
   "metadata": {},
   "outputs": [],
   "source": []
  }
 ],
 "metadata": {
  "kernelspec": {
   "display_name": "Python 3",
   "language": "python",
   "name": "python3"
  },
  "language_info": {
   "codemirror_mode": {
    "name": "ipython",
    "version": 3
   },
   "file_extension": ".py",
   "mimetype": "text/x-python",
   "name": "python",
   "nbconvert_exporter": "python",
   "pygments_lexer": "ipython3",
   "version": "3.7.0"
  }
 },
 "nbformat": 4,
 "nbformat_minor": 2
}
