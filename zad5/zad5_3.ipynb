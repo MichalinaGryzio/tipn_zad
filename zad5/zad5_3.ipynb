{
 "cells": [
  {
   "cell_type": "code",
   "execution_count": null,
   "metadata": {},
   "outputs": [
    {
     "name": "stdout",
     "output_type": "stream",
     "text": [
      "wpisz zdanie\n"
     ]
    }
   ],
   "source": [
    "def policz_słowa ():\n",
    "    print ('wpisz zdanie')\n",
    "    zdanie = str(input())\n",
    "    spacja = 0\n",
    "    for i in zdanie:    \n",
    "        if i == ' ':\n",
    "            spacja += 1\n",
    "    spacja += 1\n",
    "    print ('W zdaniu \"%s\" są/jest %d wyrazy/wyrazów.' % (zdanie,spacja))\n",
    "    \n",
    "policz_słowa ()\n"
   ]
  },
  {
   "cell_type": "code",
   "execution_count": null,
   "metadata": {},
   "outputs": [],
   "source": []
  },
  {
   "cell_type": "code",
   "execution_count": null,
   "metadata": {},
   "outputs": [],
   "source": []
  }
 ],
 "metadata": {
  "kernelspec": {
   "display_name": "Python 3",
   "language": "python",
   "name": "python3"
  },
  "language_info": {
   "codemirror_mode": {
    "name": "ipython",
    "version": 3
   },
   "file_extension": ".py",
   "mimetype": "text/x-python",
   "name": "python",
   "nbconvert_exporter": "python",
   "pygments_lexer": "ipython3",
   "version": "3.7.0"
  }
 },
 "nbformat": 4,
 "nbformat_minor": 2
}
